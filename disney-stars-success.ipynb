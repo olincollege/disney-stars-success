{
 "cells": [
  {
   "cell_type": "markdown",
   "metadata": {},
   "source": [
    "# Disney Stars' Success\n",
    "By Anmol Sandhu, Lauren Armstrong\n",
    "\n",
    "# Question\n",
    "## What do the career trajectories of popular 2000s disney stars look like?\n",
    "\n",
    "# Methodology\n",
    "\n",
    "We start by looking at IMDb's Disney stars page. It contains a list of the top disney stars, links to their imdb pages and other information like the disney show they starred in and its IMDb link.   \n",
    "All the scraping functions take parsed BeautifulSoup objects as input. We can use the `get_soup` function which requests the link and returns a BeautifulSoup object after parsing the html.   \n",
    "\n",
    "Let's import the function which scrapes the main disney stars page and see what it outputs."
   ]
  },
  {
   "cell_type": "code",
   "execution_count": 22,
   "metadata": {},
   "outputs": [
    {
     "name": "stdout",
     "output_type": "stream",
     "text": [
      "[('Debby Ryan', 'Insatiable', ['Comedy', 'Drama', 'Thriller'], 'https://www.imdb.com/name/nm2913275'), ('Peyton List', 'Diary of a Wimpy Kid: Dog Days', ['Comedy', 'Family'], 'https://www.imdb.com/name/nm2572554'), ('Cameron Boyce', 'Mrs. Fletcher', ['Comedy', 'Drama'], 'https://www.imdb.com/name/nm2624602')]\n"
     ]
    }
   ],
   "source": [
    "import json\n",
    "import pandas as pd\n",
    "from matplotlib import pyplot as plt\n",
    "from scraper_functions import *\n",
    "from data_analysis import *\n",
    "\n",
    "disney_soup = get_soup(\"https://www.imdb.com/list/ls056117732/\")\n",
    "print(all_links(disney_soup)[:3])"
   ]
  },
  {
   "cell_type": "markdown",
   "metadata": {},
   "source": [
    "We only printed the first 3 actors in the list. Each actor is stored as a tuple in the list containing the actor's name, the disney show they were in, that disney show's genre and a link to their IMDb page.    \n",
    "The next step is to go into each actor's IMDb page and get links to their movies. Let's look at the first few movies that the `celeb_movies` function scrapes from an actor's page."
   ]
  },
  {
   "cell_type": "code",
   "execution_count": 23,
   "metadata": {},
   "outputs": [
    {
     "data": {
      "text/plain": [
       "['https://www.imdb.com/title/tt11897688/',\n",
       " 'https://www.imdb.com/title/tt10763820/',\n",
       " 'https://www.imdb.com/title/tt12114586/']"
      ]
     },
     "execution_count": 23,
     "metadata": {},
     "output_type": "execute_result"
    }
   ],
   "source": [
    "celeb_soup = get_soup(\"https://www.imdb.com/name/nm2913275\")\n",
    "\n",
    "celeb_movies(celeb_soup)[:3]"
   ]
  },
  {
   "cell_type": "markdown",
   "metadata": {},
   "source": [
    "The function outputs links for all the movies the actor has done. The final step is to go into each movie's IMDb page and scrape information like it's name, genre, rating and box office collection. Below we can see the output `movie_info` function returns for a movie link passed to it. "
   ]
  },
  {
   "cell_type": "code",
   "execution_count": 24,
   "metadata": {},
   "outputs": [
    {
     "data": {
      "text/plain": [
       "('Twenty One Pilots: Level of Concern', '2020', None, ['Music'], '7.7')"
      ]
     },
     "execution_count": 24,
     "metadata": {},
     "output_type": "execute_result"
    }
   ],
   "source": [
    "movie_soup = get_soup(\"https://www.imdb.com/title/tt12114586/\")\n",
    "\n",
    "movie_info(movie_soup)"
   ]
  },
  {
   "cell_type": "markdown",
   "metadata": {},
   "source": [
    "Above we looked at the output for a few of one actor's movies and the description of one of their movies. The final step is to loop through all the actors on the disney page and collect information for each of their movies. We do this by running the `obtain_data.py` which collects all the data and saves it in the `imdb.json` file. We save it locally on our machine so that we don't have to wait to scrape the data every time we are trying to plot and analyze the data.  "
   ]
  },
  {
   "cell_type": "markdown",
   "metadata": {},
   "source": [
    "Now we move forward to processing the data. We start by loading `imdb.json` as a dataframe so it is easier to process. Below we print out the first few columns of the dataframe to look at how it is structured. "
   ]
  },
  {
   "cell_type": "code",
   "execution_count": 25,
   "metadata": {},
   "outputs": [
    {
     "name": "stdout",
     "output_type": "stream",
     "text": [
      "Index(['Debby Ryan, Insatiable, ['Comedy', 'Drama', 'Thriller']',\n",
      "       'Peyton List, Diary of a Wimpy Kid: Dog Days, ['Comedy', 'Family']',\n",
      "       'Cameron Boyce, Mrs. Fletcher, ['Comedy', 'Drama']',\n",
      "       'Karan Brar, Diary of a Wimpy Kid, ['Comedy', 'Drama', 'Family']',\n",
      "       'Skai Jackson, Arthur, ['Comedy', 'Romance']'],\n",
      "      dtype='object')\n"
     ]
    }
   ],
   "source": [
    "with open('imdb.json') as imdb_json:\n",
    "    df = pd.DataFrame.from_dict(json.load(imdb_json), orient='index')\n",
    "celebs = df.transpose()\n",
    "print(celebs.columns[:5])"
   ]
  },
  {
   "cell_type": "markdown",
   "metadata": {},
   "source": [
    "The output shows actors as columns. We can print the first few rows of the first actor's columns to see how movie information is stored."
   ]
  },
  {
   "cell_type": "code",
   "execution_count": 26,
   "metadata": {},
   "outputs": [
    {
     "name": "stdout",
     "output_type": "stream",
     "text": [
      "0    [The Friendship Game, None, None, [Sci-Fi], None]\n",
      "1                [Shriver, 2022, None, [Comedy], None]\n",
      "2    [Cobra Kai, 2018, None, [Action, Comedy, Drama...\n",
      "Name: Peyton List, Diary of a Wimpy Kid: Dog Days, ['Comedy', 'Family'], dtype: object\n"
     ]
    }
   ],
   "source": [
    "print(celebs.iloc[:3,1])"
   ]
  },
  {
   "cell_type": "markdown",
   "metadata": {},
   "source": [
    "The output shows that each actor has a separate column and the data for each of their movies is stored as a list in different rows.   \n",
    "\n",
    "Now that we have the data stored in a dataframe, we can start filtering the data to create various plots. Let's try plotting the movie ratings over time for the first actor in the data. We use the function `movie_ratings_over_time` to filter the data into a dictionary and use `show_movie_ratings_over_time` to plot the data. Right now we will copy `show_movie_ratings_over_time` here and slightly modify it so that it shows the plot output inline instead of saving it in a folder."
   ]
  },
  {
   "cell_type": "code",
   "execution_count": 27,
   "metadata": {},
   "outputs": [
    {
     "data": {
      "image/png": "[encoded data removed]",
      "text/plain": [
       "<Figure size 432x288 with 1 Axes>"
      ]
     },
     "metadata": {
      "needs_background": "light"
     },
     "output_type": "display_data"
    }
   ],
   "source": [
    "movie_year, celeb, num = movie_ratings_over_time(celebs,0)\n",
    "for year in movie_year:\n",
    "        for rating in movie_year[year]:\n",
    "            plt.scatter(year, rating, c=['#1f77b4'])\n",
    "\n",
    "plt.xticks(rotation=30, ha='right')\n",
    "plt.title(\n",
    "    f\"{celeb.columns[num].split(',')[0]}'s Imdb ratings over the years\")\n",
    "plt.ylabel(\"IMDb rating (1-10)\")\n",
    "plt.show()"
   ]
  },
  {
   "cell_type": "markdown",
   "metadata": {},
   "source": [
    "The output creates a scatter plot which can help find trends in the IMDb ratings over an actor's career.   \n",
    "We can use the function `do_for_all` which takes a data filtering function and a data plotting function for one actor as input and performs it on all the actors in the data. Running `data_analysis.py` uses the `do_for_all` function on all the data analysis functions we have created and saves the output in separate folders. "
   ]
  },
  {
   "cell_type": "markdown",
   "metadata": {},
   "source": []
  }
 ],
 "metadata": {
  "interpreter": {
   "hash": "50055e417cf158d6f0b12be233c4abdf35de94a19c22be7bdf759ae0ca8e372a"
  },
  "kernelspec": {
   "display_name": "Python 3.9.7 ('base')",
   "language": "python",
   "name": "python3"
  },
  "language_info": {
   "codemirror_mode": {
    "name": "ipython",
    "version": 3
   },
   "file_extension": ".py",
   "mimetype": "text/x-python",
   "name": "python",
   "nbconvert_exporter": "python",
   "pygments_lexer": "ipython3",
   "version": "3.9.7"
  },
  "orig_nbformat": 4
 },
 "nbformat": 4,
 "nbformat_minor": 2
}
