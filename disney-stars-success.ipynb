{
 "cells": [
  {
   "cell_type": "markdown",
   "metadata": {},
   "source": [
    "# Disney Stars' Success\n",
    "By Anmol Sandhu, Lauren Armstrong\n",
    "\n",
    "# Question\n",
    "### What do the career trajectories of popular 2000s Disney stars look like?\n",
    "\n",
    "As people who grew up watching Disney, we would see the same actors everyday. Now, looking back, we wonder what happened to all of those familiar faces. After finding a bunch of Disney stars, we took information about their movies to find out if they were successful after their breakout Disney show. Our project gave us different types of plots to work with which helped us better gauge the success of disney stars.\n",
    "\n",
    "# Methodology\n",
    "\n",
    "We start by looking at IMDb's Disney stars page. It contains a list of the top Disney stars, links to their imdb pages and other information like the disney show they starred in and its IMDb link.   \n",
    "All the scraping functions take parsed BeautifulSoup objects as input. We can use the `get_soup` function which requests the link and returns a BeautifulSoup object after parsing the html.   \n",
    "\n",
    "Let's import the function which scrapes the main disney stars page and see what it outputs."
   ]
  },
  {
   "cell_type": "code",
   "execution_count": 12,
   "metadata": {},
   "outputs": [
    {
     "name": "stdout",
     "output_type": "stream",
     "text": [
      "[('Debby Ryan', 'Insatiable', ['Comedy', 'Drama', 'Thriller'], 'https://www.imdb.com/name/nm2913275'), ('Peyton List', 'Diary of a Wimpy Kid: Dog Days', ['Comedy', 'Family'], 'https://www.imdb.com/name/nm2572554'), ('Cameron Boyce', 'Mrs. Fletcher', ['Comedy', 'Drama'], 'https://www.imdb.com/name/nm2624602')]\n"
     ]
    }
   ],
   "source": [
    "import json\n",
    "import pandas as pd\n",
    "from matplotlib import pyplot as plt\n",
    "from scraper_functions import *\n",
    "from data_analysis import *\n",
    "\n",
    "disney_soup = get_soup(\"https://www.imdb.com/list/ls056117732/\")\n",
    "print(all_links(disney_soup)[:3])"
   ]
  },
  {
   "cell_type": "markdown",
   "metadata": {},
   "source": [
    "We only printed the first 3 actors the function scraped. Each actor is stored as a tuple in the list. Each tuple contains the actor's name, the Disney show they were in, that Disney show's genre and a link to their IMDb page.    \n",
    "The next step is to go into each actor's IMDb page and get links to their movies. Let's look at the first few movies that the `celeb_movies` function scrapes from an actor's page."
   ]
  },
  {
   "cell_type": "code",
   "execution_count": 13,
   "metadata": {},
   "outputs": [
    {
     "data": {
      "text/plain": [
       "['https://www.imdb.com/title/tt11897688/',\n",
       " 'https://www.imdb.com/title/tt10763820/',\n",
       " 'https://www.imdb.com/title/tt12114586/']"
      ]
     },
     "execution_count": 13,
     "metadata": {},
     "output_type": "execute_result"
    }
   ],
   "source": [
    "celeb_soup = get_soup(\"https://www.imdb.com/name/nm2913275\")\n",
    "\n",
    "celeb_movies(celeb_soup)[:3]"
   ]
  },
  {
   "cell_type": "markdown",
   "metadata": {},
   "source": [
    "The function outputs links for all the movies the actor has done. The final step is to go into each movie's IMDb page and scrape information like it's name, genre, rating and box office collection. Below we can see the output `movie_info` function returns for a movie link passed to it. "
   ]
  },
  {
   "cell_type": "code",
   "execution_count": 14,
   "metadata": {},
   "outputs": [
    {
     "data": {
      "text/plain": [
       "('Twenty One Pilots: Level of Concern', '2020', None, ['Music'], '7.7')"
      ]
     },
     "execution_count": 14,
     "metadata": {},
     "output_type": "execute_result"
    }
   ],
   "source": [
    "movie_soup = get_soup(\"https://www.imdb.com/title/tt12114586/\")\n",
    "\n",
    "movie_info(movie_soup)"
   ]
  },
  {
   "cell_type": "markdown",
   "metadata": {},
   "source": [
    "Above we looked at the output for a few of one actor's movies and the description of one of their movies. The final step is to loop through all the actors on the Disney page and collect information for each of their movies. We do this by running the `obtain_data.py` which collects all the data and saves it in the `imdb.json` file. We save it locally on our machine so that we don't have to wait to scrape the data every time we are trying to plot and analyze the data.  "
   ]
  },
  {
   "cell_type": "markdown",
   "metadata": {},
   "source": [
    "Now we move forward to processing the data. We start by loading `imdb.json` as a dataframe so it is easier to process. Below we print out the first few columns of the dataframe to look at how it is structured. "
   ]
  },
  {
   "cell_type": "code",
   "execution_count": 15,
   "metadata": {},
   "outputs": [
    {
     "name": "stdout",
     "output_type": "stream",
     "text": [
      "Index(['Debby Ryan, Insatiable, ['Comedy', 'Drama', 'Thriller']',\n",
      "       'Peyton List, Diary of a Wimpy Kid: Dog Days, ['Comedy', 'Family']',\n",
      "       'Cameron Boyce, Mrs. Fletcher, ['Comedy', 'Drama']',\n",
      "       'Karan Brar, Diary of a Wimpy Kid, ['Comedy', 'Drama', 'Family']',\n",
      "       'Skai Jackson, Arthur, ['Comedy', 'Romance']'],\n",
      "      dtype='object')\n"
     ]
    }
   ],
   "source": [
    "with open('imdb.json') as imdb_json:\n",
    "    df = pd.DataFrame.from_dict(json.load(imdb_json), orient='index')\n",
    "celebs = df.transpose()\n",
    "print(celebs.columns[:5])"
   ]
  },
  {
   "cell_type": "markdown",
   "metadata": {},
   "source": [
    "The output shows actors as columns. We can print the first few rows of the first actor's columns to see how movie information is stored."
   ]
  },
  {
   "cell_type": "code",
   "execution_count": 16,
   "metadata": {},
   "outputs": [
    {
     "name": "stdout",
     "output_type": "stream",
     "text": [
      "0    [The Friendship Game, None, None, [Sci-Fi], None]\n",
      "1                [Shriver, 2022, None, [Comedy], None]\n",
      "2    [Cobra Kai, 2018, None, [Action, Comedy, Drama...\n",
      "Name: Peyton List, Diary of a Wimpy Kid: Dog Days, ['Comedy', 'Family'], dtype: object\n"
     ]
    }
   ],
   "source": [
    "print(celebs.iloc[:3,1])"
   ]
  },
  {
   "cell_type": "markdown",
   "metadata": {},
   "source": [
    "The output shows that each actor has a separate column and the data for each of their movies is stored as a list in different rows.   \n",
    "\n",
    "Now that we have the data stored in a dataframe, we can start filtering the data to create various plots. Let's try plotting the movie ratings over time for the first actor in the data. We use the function `movie_ratings_over_time` to filter the data into a dictionary and use `show_movie_ratings_over_time` to plot the data. Right now we will copy `show_movie_ratings_over_time` here and slightly modify it so that it shows the plot output inline instead of saving it in a folder."
   ]
  },
  {
   "cell_type": "code",
   "execution_count": 17,
   "metadata": {},
   "outputs": [
    {
     "data": {
      "image/png": "[encoded data removed]",
      "text/plain": [
       "<Figure size 432x288 with 1 Axes>"
      ]
     },
     "metadata": {
      "needs_background": "light"
     },
     "output_type": "display_data"
    }
   ],
   "source": [
    "movie_year, celeb, num = movie_ratings_over_time(celebs,0)\n",
    "for year in movie_year:\n",
    "        for rating in movie_year[year]:\n",
    "            plt.scatter(year, rating, c=['#1f77b4'])\n",
    "\n",
    "plt.xticks(rotation=30, ha='right')\n",
    "plt.title(\n",
    "    f\"{celeb.columns[num].split(',')[0]}'s Imdb ratings over the years\")\n",
    "plt.ylabel(\"IMDb rating (1-10)\")\n",
    "plt.show()"
   ]
  },
  {
   "cell_type": "markdown",
   "metadata": {},
   "source": [
    "The output creates a scatter plot which can help find trends in the IMDb ratings over an actor's career.   \n",
    "We can use the function `do_for_all` which takes a data filtering function and a data plotting function for one actor as input and performs it on all the actors in the data. Running `data_analysis.py` uses the `do_for_all` function on all the data analysis functions we have created and saves the output in separate folders. "
   ]
  },
  {
   "cell_type": "markdown",
   "metadata": {},
   "source": [
    "# Results"
   ]
  },
  {
   "cell_type": "markdown",
   "metadata": {},
   "source": [
    "We generated over a 100 plots of 3 different types for each actor in the data. We went through the graphs and picked out ones which had clear trends in the data. We used different statistical functions for each type of plot choosing the ones which best represented the data. Things like outliers, total number of data points, etc. helped us choose the right way to create plots for different data. Below we have plotted a few plots with clear trends of data."
   ]
  },
  {
   "cell_type": "code",
   "execution_count": 18,
   "metadata": {},
   "outputs": [
    {
     "data": {
      "text/plain": [
       "Text(0, 0.5, 'IMDb rating (1-10)')"
      ]
     },
     "execution_count": 18,
     "metadata": {},
     "output_type": "execute_result"
    },
    {
     "data": {
      "image/png": "[encoded data removed]",
      "text/plain": [
       "<Figure size 432x288 with 1 Axes>"
      ]
     },
     "metadata": {
      "needs_background": "light"
     },
     "output_type": "display_data"
    }
   ],
   "source": [
    "movie_year, celeb, num = movie_ratings_over_time(celebs,2)\n",
    "for year in movie_year:\n",
    "        for rating in movie_year[year]:\n",
    "            plt.scatter(year, rating, c=['#1f77b4'])\n",
    "\n",
    "plt.xticks(rotation=30, ha='right')\n",
    "plt.title(\n",
    "    f\"{celeb.columns[num].split(',')[0]}'s Imdb ratings over the years\")\n",
    "plt.ylabel(\"IMDb rating (1-10)\")"
   ]
  },
  {
   "cell_type": "code",
   "execution_count": 19,
   "metadata": {},
   "outputs": [
    {
     "data": {
      "text/plain": [
       "Text(0, 0.5, 'Money earned (USD)')"
      ]
     },
     "execution_count": 19,
     "metadata": {},
     "output_type": "execute_result"
    },
    {
     "data": {
      "image/png": "[encoded data removed]",
      "text/plain": [
       "<Figure size 432x288 with 1 Axes>"
      ]
     },
     "metadata": {
      "needs_background": "light"
     },
     "output_type": "display_data"
    }
   ],
   "source": [
    "box_office, celeb, num = box_office_over_time(celebs,28)\n",
    "highest_box_office = list(sorted(box_office.values()))[-1]\n",
    "plt.bar(box_office.keys(), box_office.values())\n",
    "plt.xticks(rotation=30, ha='right')\n",
    "plt.title(\n",
    "    f\"{celeb.columns[num].split(',')[0]}'s box office collections over the years\")\n",
    "plt.ylim((0, float(highest_box_office)*1.1))\n",
    "plt.ylabel(\"Money earned (USD)\")"
   ]
  },
  {
   "cell_type": "code",
   "execution_count": 20,
   "metadata": {},
   "outputs": [
    {
     "data": {
      "text/plain": [
       "Text(0, 0.5, 'number of movies')"
      ]
     },
     "execution_count": 20,
     "metadata": {},
     "output_type": "execute_result"
    },
    {
     "data": {
      "image/png": "[encoded data removed]",
      "text/plain": [
       "<Figure size 432x288 with 1 Axes>"
      ]
     },
     "metadata": {
      "needs_background": "light"
     },
     "output_type": "display_data"
    }
   ],
   "source": [
    "show_genre, celeb, num = genres_over_career(celebs, 0)\n",
    "plt.bar(show_genre.keys(), show_genre.values())\n",
    "plt.xticks(rotation=30, ha='right')\n",
    "plt.title(\n",
    "    f\"{celeb.columns[num].split(',')[0]}'s movie genres over the years\")\n",
    "plt.ylabel(\"number of movies\")"
   ]
  },
  {
   "cell_type": "markdown",
   "metadata": {},
   "source": [
    "Seeing increasing or decreasing trends in the rating and box office collection plots helps us determine if an actor had a \"successful\" career. Looking at the genre data we can find out if the actor stayed in their comfort zone i.e. is the same genre as their disney show or if they tried to explore their acting skills. These results can give us a general idea of an actor's career trajectory.\n",
    "\n",
    "Looking over all our results, it seems that Disney actors don’t have as high of a rate of stardom as we first thought. Many of the actors fizzle out after their shows, only playing in smaller or one-off movies here and there. It seems very rare from our data that an actor, even starting at Disney will hit their big break in the film industry. The only seemingly successful actor we found seemed to be Zendaya, who since leaving her role in the show Shake It Up has gone on to act in and even star in a plethora of well-known films and shows."
   ]
  },
  {
   "cell_type": "markdown",
   "metadata": {},
   "source": [
    "# Conclusion\n",
    "\n",
    "### Challenges:\n",
    "* An initial challenge we faced was figuring out the best way to store the data locally so that we don't have to web scrape every time to generate plots. We started by simply writing a dictionary to a text file but found out that it was not a good idea to evaluate python expressions from string based input. We decided that the best way to store out data would be in a json file since out data was very nested. We also found a convenient function to convert from json to DataFrames and decided to finalize using a json file to store data. Ideally we wanted to use relational DataFrames but by the time we thought of it we had already built a few data cleaning functions using the json and decided to continue with it.\n",
    "\n",
    "* The next big challenge was figuring out the best statistical function to get insights from the data. For e.g. for IMDb ratings we started by using bar graphs to show average ratings per year. We found out that averages can be easily skewed by outliers in the data and would not be the most accurate representation. We then thought of using box plots since they handled outliers better.\n",
    "But we noticed that for some movies we only had 2-3 movies per year and using box plots also didn't make sense. We finally decided on using a scatter plot to get the most accurate representation of the data. We followed a similar process for other types of plots, switching up and experimenting on statistical functions.\n",
    "\n",
    "### Future ideas:\n",
    "If we had to spend more time on the project, we would store the data in a more accessible way and research more parameters to measure an actor's success. Money earned and movie ratings are not the only parameters that determine a successful acting career. "
   ]
  },
  {
   "cell_type": "markdown",
   "metadata": {},
   "source": []
  }
 ],
 "metadata": {
  "interpreter": {
   "hash": "50055e417cf158d6f0b12be233c4abdf35de94a19c22be7bdf759ae0ca8e372a"
  },
  "kernelspec": {
   "display_name": "Python 3.9.7 ('base')",
   "language": "python",
   "name": "python3"
  },
  "language_info": {
   "codemirror_mode": {
    "name": "ipython",
    "version": 3
   },
   "file_extension": ".py",
   "mimetype": "text/x-python",
   "name": "python",
   "nbconvert_exporter": "python",
   "pygments_lexer": "ipython3",
   "version": "3.9.7"
  },
  "orig_nbformat": 4
 },
 "nbformat": 4,
 "nbformat_minor": 2
}
